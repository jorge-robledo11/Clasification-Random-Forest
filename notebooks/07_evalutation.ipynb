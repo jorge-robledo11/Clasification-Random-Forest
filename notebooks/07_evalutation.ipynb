{
 "cells": [
  {
   "cell_type": "code",
   "execution_count": 1,
   "metadata": {},
   "outputs": [],
   "source": [
    "import joblib\n",
    "import warnings\n",
    "import sys\n",
    "sys.path.append('../src/utils')\n",
    "\n",
    "# Core\n",
    "from utils_functions import *\n",
    "pd.set_option('display.max_columns', None)\n",
    "pd.options.display.float_format = '{:,.2f}'.format\n",
    "warnings.simplefilter('ignore')\n",
    "%load_ext autoreload\n",
    "%autoreload 2"
   ]
  },
  {
   "cell_type": "code",
   "execution_count": 2,
   "metadata": {},
   "outputs": [],
   "source": [
    "# Modelo final\n",
    "final_model = joblib.load('../models/OptimizedRandomForestClassifier.pkl')\n",
    "\n",
    "# Lectura de los subsets\n",
    "X_train = pd.read_csv('../data/processed/X_train.csv')\n",
    "X_val = pd.read_csv('../data/processed/X_val.csv')\n",
    "X_test = pd.read_csv('../data/processed/X_test.csv')\n",
    "\n",
    "y_train = pd.read_csv('../data/processed/y_train.csv')\n",
    "y_val = pd.read_csv('../data/processed/y_val.csv')\n",
    "y_test = pd.read_csv('../data/processed/y_test.csv')\n",
    "\n",
    "X_train.drop(['hours-per-week'], axis=1, inplace=True)\n",
    "X_val.drop(['hours-per-week'], axis=1, inplace=True)\n",
    "X_test.drop(['hours-per-week'], axis=1, inplace=True)"
   ]
  },
  {
   "cell_type": "code",
   "execution_count": 3,
   "metadata": {},
   "outputs": [
    {
     "name": "stdout",
     "output_type": "stream",
     "text": [
      "=== RESULTADOS FINALES ===\n",
      "Log-loss train set: 35.85%\n",
      "Log-loss validation set: 35.83%\n",
      "Log-loss test set: 37.16%\n"
     ]
    }
   ],
   "source": [
    "from sklearn.metrics import log_loss\n",
    "\n",
    "# Evaluar el mejor modelo en el conjunto de entrenamiento\n",
    "y_pred_train = final_model.predict_proba(X_train)[:, 1]\n",
    "train_log_loss = log_loss(y_train, y_pred_train)\n",
    "\n",
    "# Evaluar el mejor modelo en el conjunto de validación\n",
    "y_pred_val = final_model.predict_proba(X_val)[:, 1]\n",
    "val_log_loss = log_loss(y_val, y_pred_val)\n",
    "\n",
    "# Evaluar el mejor modelo en el conjunto de prueba\n",
    "test_pred_val = final_model.predict_proba(X_test)[:, 1]\n",
    "test_log_loss = log_loss(y_test, test_pred_val)\n",
    "\n",
    "print('=== RESULTADOS FINALES ===')\n",
    "print(f'Log-loss train set: {100*train_log_loss:0.2f}%')\n",
    "print(f'Log-loss validation set: {100*val_log_loss:0.2f}%')\n",
    "print(f'Log-loss test set: {100*test_log_loss:0.2f}%')"
   ]
  },
  {
   "cell_type": "code",
   "execution_count": 4,
   "metadata": {},
   "outputs": [
    {
     "name": "stdout",
     "output_type": "stream",
     "text": [
      "=== RESULTADOS FINALES ===\n",
      "ROC-AUC train set: 88.00%\n",
      "ROC-AUC validation set: 87.89%\n",
      "ROC-AUC test set: 86.87%\n"
     ]
    }
   ],
   "source": [
    "from sklearn.metrics import roc_auc_score\n",
    "\n",
    "# Evaluar el mejor modelo en el conjunto de entrenamiento\n",
    "y_pred_train = final_model.predict_proba(X_train)[:, 1]\n",
    "train_roc_auc = roc_auc_score(y_train, y_pred_train)\n",
    "\n",
    "# Evaluar el mejor modelo en el conjunto de validación\n",
    "y_pred_val = final_model.predict_proba(X_val)[:, 1]\n",
    "val_roc_auc = roc_auc_score(y_val, y_pred_val)\n",
    "\n",
    "# Evaluar el mejor modelo en el conjunto de prueba\n",
    "test_pred_val = final_model.predict_proba(X_test)[:, 1]\n",
    "test_roc_auc = roc_auc_score(y_test, test_pred_val)\n",
    "\n",
    "print('=== RESULTADOS FINALES ===')\n",
    "print(f'ROC-AUC train set: {100*train_roc_auc:0.2f}%')\n",
    "print(f'ROC-AUC validation set: {100*val_roc_auc:0.2f}%')\n",
    "print(f'ROC-AUC test set: {100*test_roc_auc:0.2f}%')"
   ]
  }
 ],
 "metadata": {
  "kernelspec": {
   "display_name": "venv_main",
   "language": "python",
   "name": "python3"
  },
  "language_info": {
   "codemirror_mode": {
    "name": "ipython",
    "version": 3
   },
   "file_extension": ".py",
   "mimetype": "text/x-python",
   "name": "python",
   "nbconvert_exporter": "python",
   "pygments_lexer": "ipython3",
   "version": "3.11.4"
  },
  "orig_nbformat": 4
 },
 "nbformat": 4,
 "nbformat_minor": 2
}
